{
  "nbformat": 4,
  "nbformat_minor": 0,
  "metadata": {
    "colab": {
      "provenance": []
    },
    "kernelspec": {
      "name": "python3",
      "display_name": "Python 3"
    },
    "language_info": {
      "name": "python"
    }
  },
  "cells": [
    {
      "cell_type": "code",
      "source": [
        "pip install pyod"
      ],
      "metadata": {
        "colab": {
          "base_uri": "https://localhost:8080/"
        },
        "id": "ulZB7_8DHZpm",
        "outputId": "0e515ad7-996b-41c3-d23c-68aeffd26316"
      },
      "execution_count": 2,
      "outputs": [
        {
          "output_type": "stream",
          "name": "stdout",
          "text": [
            "Looking in indexes: https://pypi.org/simple, https://us-python.pkg.dev/colab-wheels/public/simple/\n",
            "Collecting pyod\n",
            "  Downloading pyod-1.0.6.tar.gz (141 kB)\n",
            "\u001b[?25l\r\u001b[K     |██▎                             | 10 kB 23.1 MB/s eta 0:00:01\r\u001b[K     |████▋                           | 20 kB 13.9 MB/s eta 0:00:01\r\u001b[K     |███████                         | 30 kB 18.5 MB/s eta 0:00:01\r\u001b[K     |█████████▎                      | 40 kB 7.3 MB/s eta 0:00:01\r\u001b[K     |███████████▋                    | 51 kB 5.8 MB/s eta 0:00:01\r\u001b[K     |██████████████                  | 61 kB 6.8 MB/s eta 0:00:01\r\u001b[K     |████████████████▎               | 71 kB 7.6 MB/s eta 0:00:01\r\u001b[K     |██████████████████▌             | 81 kB 6.3 MB/s eta 0:00:01\r\u001b[K     |████████████████████▉           | 92 kB 7.0 MB/s eta 0:00:01\r\u001b[K     |███████████████████████▏        | 102 kB 7.6 MB/s eta 0:00:01\r\u001b[K     |█████████████████████████▌      | 112 kB 7.6 MB/s eta 0:00:01\r\u001b[K     |███████████████████████████▉    | 122 kB 7.6 MB/s eta 0:00:01\r\u001b[K     |██████████████████████████████▏ | 133 kB 7.6 MB/s eta 0:00:01\r\u001b[K     |████████████████████████████████| 141 kB 7.6 MB/s \n",
            "\u001b[?25hRequirement already satisfied: joblib in /usr/local/lib/python3.8/dist-packages (from pyod) (1.2.0)\n",
            "Requirement already satisfied: matplotlib in /usr/local/lib/python3.8/dist-packages (from pyod) (3.2.2)\n",
            "Requirement already satisfied: numpy>=1.19 in /usr/local/lib/python3.8/dist-packages (from pyod) (1.21.6)\n",
            "Requirement already satisfied: numba>=0.51 in /usr/local/lib/python3.8/dist-packages (from pyod) (0.56.4)\n",
            "Requirement already satisfied: scipy>=1.5.1 in /usr/local/lib/python3.8/dist-packages (from pyod) (1.7.3)\n",
            "Requirement already satisfied: scikit_learn>=0.20.0 in /usr/local/lib/python3.8/dist-packages (from pyod) (1.0.2)\n",
            "Requirement already satisfied: six in /usr/local/lib/python3.8/dist-packages (from pyod) (1.15.0)\n",
            "Requirement already satisfied: statsmodels in /usr/local/lib/python3.8/dist-packages (from pyod) (0.12.2)\n",
            "Requirement already satisfied: setuptools in /usr/local/lib/python3.8/dist-packages (from numba>=0.51->pyod) (57.4.0)\n",
            "Requirement already satisfied: llvmlite<0.40,>=0.39.0dev0 in /usr/local/lib/python3.8/dist-packages (from numba>=0.51->pyod) (0.39.1)\n",
            "Requirement already satisfied: importlib-metadata in /usr/local/lib/python3.8/dist-packages (from numba>=0.51->pyod) (4.13.0)\n",
            "Requirement already satisfied: threadpoolctl>=2.0.0 in /usr/local/lib/python3.8/dist-packages (from scikit_learn>=0.20.0->pyod) (3.1.0)\n",
            "Requirement already satisfied: zipp>=0.5 in /usr/local/lib/python3.8/dist-packages (from importlib-metadata->numba>=0.51->pyod) (3.11.0)\n",
            "Requirement already satisfied: python-dateutil>=2.1 in /usr/local/lib/python3.8/dist-packages (from matplotlib->pyod) (2.8.2)\n",
            "Requirement already satisfied: pyparsing!=2.0.4,!=2.1.2,!=2.1.6,>=2.0.1 in /usr/local/lib/python3.8/dist-packages (from matplotlib->pyod) (3.0.9)\n",
            "Requirement already satisfied: cycler>=0.10 in /usr/local/lib/python3.8/dist-packages (from matplotlib->pyod) (0.11.0)\n",
            "Requirement already satisfied: kiwisolver>=1.0.1 in /usr/local/lib/python3.8/dist-packages (from matplotlib->pyod) (1.4.4)\n",
            "Requirement already satisfied: pandas>=0.21 in /usr/local/lib/python3.8/dist-packages (from statsmodels->pyod) (1.3.5)\n",
            "Requirement already satisfied: patsy>=0.5 in /usr/local/lib/python3.8/dist-packages (from statsmodels->pyod) (0.5.3)\n",
            "Requirement already satisfied: pytz>=2017.3 in /usr/local/lib/python3.8/dist-packages (from pandas>=0.21->statsmodels->pyod) (2022.6)\n",
            "Building wheels for collected packages: pyod\n",
            "  Building wheel for pyod (setup.py) ... \u001b[?25l\u001b[?25hdone\n",
            "  Created wheel for pyod: filename=pyod-1.0.6-py3-none-any.whl size=175098 sha256=8f9f4f2f86b85087595c584d775ad3af3ab77a987320f5b74efdb36e620f73dc\n",
            "  Stored in directory: /root/.cache/pip/wheels/98/93/e6/6d40410d9635ecde42d06041a1ba7f2ee7396e036fcf702e73\n",
            "Successfully built pyod\n",
            "Installing collected packages: pyod\n",
            "Successfully installed pyod-1.0.6\n"
          ]
        }
      ]
    },
    {
      "cell_type": "code",
      "execution_count": 3,
      "metadata": {
        "id": "SEHBOxnvua_8"
      },
      "outputs": [],
      "source": [
        "import numpy as np\n",
        "from scipy import stats\n",
        "import matplotlib.pyplot as plt\n",
        "import matplotlib.font_manager \n",
        "from pyod.models.knn import KNN\n",
        "from pyod.utils.data import generate_data, get_outliers_inliers"
      ]
    },
    {
      "cell_type": "code",
      "source": [
        "X_train, y_train = generate_data(n_train = 300, train_only= True, n_features = 2) \n",
        "outlier_fraction = 0.1\n",
        "X_outliers, X_inliers = get_outliers_inliers (X_train, y_train)\n",
        "n_inliers = len(X_inliers)\n",
        "n_outliers = len(X_outliers) \n",
        "f1 = X_train[:, [0]].reshape(-1, 1)\n",
        "f2 = X_train[:, [1]].reshape(-1, 1)"
      ],
      "metadata": {
        "id": "i_M5xp1FxGWf"
      },
      "execution_count": 4,
      "outputs": []
    },
    {
      "cell_type": "code",
      "source": [
        "xx, yy = np.meshgrid (np.linspace (-10, 10, 200),np.linspace(-10,10,200))\n",
        "plt.scatter(f1,f2)\n",
        "plt.xlabel('Feature 1') \n",
        "plt.ylabel('Feature 2')"
      ],
      "metadata": {
        "colab": {
          "base_uri": "https://localhost:8080/",
          "height": 296
        },
        "id": "kEdbSCaGx7bW",
        "outputId": "a77a744e-3ab3-456b-bb33-86ab54354cf5"
      },
      "execution_count": 5,
      "outputs": [
        {
          "output_type": "execute_result",
          "data": {
            "text/plain": [
              "Text(0, 0.5, 'Feature 2')"
            ]
          },
          "metadata": {},
          "execution_count": 5
        },
        {
          "output_type": "display_data",
          "data": {
            "text/plain": [
              "<Figure size 432x288 with 1 Axes>"
            ],
            "image/png": "[encoded data removed]"
          },
          "metadata": {
            "needs_background": "light"
          }
        }
      ]
    },
    {
      "cell_type": "code",
      "source": [
        "clf = KNN (contamination = outlier_fraction)\n",
        "clf.fit(X_train, y_train)\n",
        "scores_pred = clf.decision_function(X_train)*-1\n",
        "y_pred = clf.predict(X_train)\n",
        "n_errors = (y_pred != y_train).sum()\n",
        "\n",
        "print('The number of prediction errors are' + str(n_errors))"
      ],
      "metadata": {
        "colab": {
          "base_uri": "https://localhost:8080/"
        },
        "id": "g57dkJY6ytBg",
        "outputId": "d7ee579d-a8f7-43b4-af8c-7f114a533c2e"
      },
      "execution_count": 6,
      "outputs": [
        {
          "output_type": "stream",
          "name": "stdout",
          "text": [
            "The number of prediction errors are0\n"
          ]
        },
        {
          "output_type": "stream",
          "name": "stderr",
          "text": [
            "/usr/local/lib/python3.8/dist-packages/pyod/models/base.py:410: UserWarning: y should not be presented in unsupervised learning.\n",
            "  warnings.warn(\n"
          ]
        }
      ]
    },
    {
      "cell_type": "code",
      "source": [
        "threshold  = stats.scoreatpercentile (scores_pred, 100 * outlier_fraction) \n",
        "Z = clf.decision_function (np.c_[xx.ravel(), yy.ravel()]) * -1\n",
        "Z = Z.reshape(xx.shape)\n",
        "subplot = plt.subplot(1, 2, 1)\n",
        "\n",
        "subplot.contourf (xx, yy, Z, levels = np.linspace (Z.min(),threshold, 10), cmap = plt.cm.Blues_r)\n",
        "\n",
        "a = subplot.contour (xx, yy, Z, levels =[threshold],linewidths = 2, colors ='red')\n",
        "\n",
        "subplot.contourf(xx, yy, Z, levels = [threshold, Z.max()], colors ='orange')\n",
        "\n",
        "\n",
        "b = subplot.scatter (X_train[:-n_outliers, 0], X_train[:-n_outliers, 1], c='white', s = 20, edgecolor='k')\n",
        "\n",
        "c = subplot.scatter (X_train[-n_outliers:, 0], X_train[-n_outliers:, 1],\n",
        "\n",
        "c='black', s = 20, edgecolor = 'k')\n",
        "\n",
        "subplot.axis('tight')\n",
        "\n",
        "subplot.legend([a.collections[0], b, c],['learned decision function', 'true inliers', 'true outliers'],\n",
        "\n",
        "prop = matplotlib.font_manager.FontProperties (size = 10), loc = 'lower right')\n",
        "\n",
        "subplot.set_title('K-Nearest Neighbours')\n",
        "subplot.set_xlim((-10, 10))\n",
        "\n",
        "subplot.set_ylim((-10, 10))\n",
        "\n",
        "plt.show()"
      ],
      "metadata": {
        "colab": {
          "base_uri": "https://localhost:8080/",
          "height": 281
        },
        "id": "ON00mxsNzf6L",
        "outputId": "15629164-f275-4c9c-a2f6-606c4e918a2a"
      },
      "execution_count": 7,
      "outputs": [
        {
          "output_type": "display_data",
          "data": {
            "text/plain": [
              "<Figure size 432x288 with 1 Axes>"
            ],
            "image/png": "[encoded data removed]"
          },
          "metadata": {
            "needs_background": "light"
          }
        }
      ]
    }
  ]
}